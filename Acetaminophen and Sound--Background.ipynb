{
 "cells": [
  {
   "cell_type": "markdown",
   "metadata": {},
   "source": [
    "# **Acetaminophen Attenuates Perception of Auditory Stimuli**\n",
    "#### *Lindsay Warrenburg*\n",
    "#### *3/32/20*\n",
    "Previous research has shown that acetaminophen may make you less empathic to others and that acetaminophen can blunt your emotional responses to picture stimuli. Researchers have also found that participants who ingested acetaminophen made attenuated emotional judgments of pleasant and unpleasant pictures from the IAPS.\n",
    "\n",
    "#### The goal of the current study was to test whether the emotional blunting effects of acetaminophen extend to the auditory and musical domains.\n",
    "* **Subgoal 1:** Test whether there is a difference in attenuation among *natural sounds* (like waves or growls), *music*, and *speech*.\n",
    "* **Subgoal 2:** Test whether acetaminophen blunts *perceived emotion* and *induced emotion* to different extents.\n",
    "\n"
   ]
  },
  {
   "cell_type": "markdown",
   "metadata": {},
   "source": [
    "# **Background** \n",
    "### Design\n",
    "We (Lindsay Warrenburg and Baldwin Way) used a randomized, double-blind, parallel-group, placebo-controlled design to test these hypotheses. The study consisted of two blocks of trial: one for perceived emotion and one for induced emotion. These blocks were counterbalanced across participants. During the drug uptake period, participants completed a number of questionnaires relating to their musical experience, current mood, personality traits, socio-economic status, height and weight, other drugs they may have taken, and so on."
   ]
  },
  {
   "cell_type": "markdown",
   "metadata": {},
   "source": [
    "***Perceived Emotion Block***\n",
    "\n",
    "The goal of the perceived emotion block was to judge the extent to which a sound conveys a certain affect. For the natural sounds stimuli, we used clips from the International Affective Digital Sounds (IADS). For speech stimuli, we used the Crowd-Sourced Emotional Multimodal Actors Dataset (CREMA-D). And for music stimuli, I used excerpts from film soundtracks, curated by Eerola & Vuoskoski (2011).\n",
    "* In order to assess the valence of the perceived emotion in the stimuli, we asked *“To what extent does this audio file sound positive?” and “To what extent does this audio file sound negative?’*\n",
    "* In order to assess the arousal of the perceived emotion in the stimuli, we asked *“To what extent does this audio file sound energetic/arousing?”*\n",
    "* All three questions utilized an 11-point Likert scale.\n",
    "* We also asked participants to identify which emotions the audio file represents by checking the appropriate emotions from a list.\n",
    "    * Participants could select as many or as few emotions as they liked. \n",
    "    * Once they chose the list of emotion terms, they were asked to choose which emotions (if any) strongly apply to the music. \n",
    "    * By asking participants to choose emotion terms that strongly apply, a three-level response gradient is available for analysis (i.e. does not apply, applies, strongly applies). "
   ]
  },
  {
   "cell_type": "markdown",
   "metadata": {},
   "source": [
    "***Induced Emotion Block***\n",
    "\n",
    "In the section on induced emotion, the stimuli were taken from the same databases as before. The stimuli were different from the ones in the Perceived Emotion section. No speech samples were used because the database instructions explicitly state that they should be used only in studies regarding perceived emotion. Participants were asked \n",
    "* *“To what extent does this audio file make you feel a positive emotional reaction?”* (on an 11-point Likert scale)\n",
    "* *“To what extent does this audio file make you feel a negative emotional reaction?”* (on an 11-point Likert scale)\n",
    "* Once again, participants were asked to identify which emotions the audio file makes them feel by checking the appropriate emotions from a list. They were also asked to choose which emotions strongly apply."
   ]
  },
  {
   "cell_type": "markdown",
   "metadata": {},
   "source": [
    "### Participants\n",
    "* 244 participants took part in the experiment. \n",
    "* A power analysis indicated that 200 participants are needed in order to show a reliable effect, if it is there. "
   ]
  },
  {
   "cell_type": "markdown",
   "metadata": {},
   "source": [
    "### Validation of Stimuli\n",
    "* We tested the validity of the stimuli -- namely, whether a happy song tended to be perceived as happy, that angry speech was perceived as angry, etc. \n",
    "* Wefound that the stimuli all behaved as predicted. "
   ]
  },
  {
   "cell_type": "markdown",
   "metadata": {},
   "source": [
    "# **Executive Summary**\n",
    "### Perceived Emotion\n",
    "1. The results were consistent with the hypothesis that, **compared to a placebo, acetaminophen blunts people’s perception of positive and negative emotions in sound stimuli.** \n",
    "    For example, on average, those who took a placebo rated emotional sounds as representing positive emotions at an intensity of 3.99 (out of 10), whereas those who took acetaminophen rated an intensity of positive emotions of 3.58. \n",
    "\n",
    "2. There was **no difference in arousal ratings between drug and placebo conditions.**"
   ]
  },
  {
   "cell_type": "markdown",
   "metadata": {},
   "source": [
    "*Chart showing the mean ratings of **perceived emotion** in the drug and placebo conditions*\n",
    "\n",
    "|  | Positive Emotion Ratings | Negative Emotion Ratings | Arousal Ratings |\n",
    "|------|------|------|------|\n",
    "| Placebo | 3.94* | 3.86* | 4.40 |\n",
    "| Acetaminophen | 3.60* | 3.65* | 4.33 |"
   ]
  },
  {
   "cell_type": "markdown",
   "metadata": {},
   "source": [
    "### Induced Emotion\n",
    "1. Unlike the findings in the study regarding picture stimuli, there was **no difference in the intensity of positive or negative emotions experienced by listeners in the drug and placebo conditions.**"
   ]
  },
  {
   "cell_type": "markdown",
   "metadata": {},
   "source": [
    "*Chart showing the mean ratings of **induced emotion** in the drug and placebo conditions*\n",
    "\n",
    "|  | Positive Emotion Ratings | Negative Emotion Ratings |\n",
    "|------|------|------|\n",
    "| Placebo | 3.74 | 3.56 |\n",
    "| Acetaminophen | 3.64 | 3.64 |"
   ]
  }
 ],
 "metadata": {
  "kernelspec": {
   "display_name": "Python 3",
   "language": "python",
   "name": "python3"
  },
  "language_info": {
   "codemirror_mode": {
    "name": "ipython",
    "version": 3
   },
   "file_extension": ".py",
   "mimetype": "text/x-python",
   "name": "python",
   "nbconvert_exporter": "python",
   "pygments_lexer": "ipython3",
   "version": "3.7.4"
  },
  "varInspector": {
   "cols": {
    "lenName": 16,
    "lenType": 16,
    "lenVar": 40
   },
   "kernels_config": {
    "python": {
     "delete_cmd_postfix": "",
     "delete_cmd_prefix": "del ",
     "library": "var_list.py",
     "varRefreshCmd": "print(var_dic_list())"
    },
    "r": {
     "delete_cmd_postfix": ") ",
     "delete_cmd_prefix": "rm(",
     "library": "var_list.r",
     "varRefreshCmd": "cat(var_dic_list()) "
    }
   },
   "types_to_exclude": [
    "module",
    "function",
    "builtin_function_or_method",
    "instance",
    "_Feature"
   ],
   "window_display": false
  }
 },
 "nbformat": 4,
 "nbformat_minor": 2
}
