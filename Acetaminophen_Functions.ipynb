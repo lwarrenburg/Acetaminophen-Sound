{
 "cells": [
  {
   "cell_type": "code",
   "execution_count": null,
   "metadata": {},
   "outputs": [],
   "source": [
    "# Functions and Dictionaries"
   ]
  },
  {
   "cell_type": "code",
   "execution_count": null,
   "metadata": {},
   "outputs": [],
   "source": [
    "### Dictionaries"
   ]
  },
  {
   "cell_type": "code",
   "execution_count": null,
   "metadata": {},
   "outputs": [],
   "source": []
  },
  {
   "cell_type": "code",
   "execution_count": null,
   "metadata": {},
   "outputs": [],
   "source": [
    "### Functions"
   ]
  },
  {
   "cell_type": "code",
   "execution_count": null,
   "metadata": {},
   "outputs": [],
   "source": [
    "def soundtype (row):\n",
    "    if row['SoundType_Music'] == 1 :\n",
    "        return 'Music'\n",
    "    if row['SoundType_Natural Sounds'] == 1 :\n",
    "        return 'Natural Sounds'\n",
    "    if row['SoundType_Speech'] == 1 :\n",
    "        return 'Speech'\n",
    "\n",
    "def ratingtype (row):\n",
    "    if row['RatingType_Arousal'] == 1 :\n",
    "        return 'Arousal'\n",
    "    if row['RatingType_Negative'] == 1 :\n",
    "        return 'Negative'\n",
    "    if row['RatingType_Positive'] == 1 :\n",
    "        return 'Positive'\n",
    "    \n",
    "def stimulustype (row):\n",
    "    if row['PosNeg_Negative'] == 1 and row['HighLow_High'] == 1:\n",
    "        return 'NV-HA'\n",
    "    if row['PosNeg_Negative'] == 1 and row['HighLow_Low'] == 1:\n",
    "        return 'NV-LA'\n",
    "    if row['PosNeg_Negative'] == 1 and row['HighLow_Neutral'] == 1:\n",
    "        return 'NV-NeuA'\n",
    "    if row['PosNeg_Neutral'] == 1 and row['HighLow_High'] == 1:\n",
    "        return 'NeuV-HA'\n",
    "    if row['PosNeg_Neutral'] == 1 and row['HighLow_Low'] == 1:\n",
    "        return 'NeuV-LA'\n",
    "    if row['PosNeg_Neutral'] == 1 and row['HighLow_Neutral'] == 1:\n",
    "        return 'NeuV-NeuA'\n",
    "    if row['PosNeg_Positive'] == 1 and row['HighLow_High'] == 1:\n",
    "        return 'PV-HA'\n",
    "    if row['PosNeg_Positive'] == 1 and row['HighLow_Low'] == 1:\n",
    "        return 'PV-LA'\n",
    "    if row['PosNeg_Positive'] == 1 and row['HighLow_Neutral'] == 1:\n",
    "        return 'PV-NeuA'"
   ]
  },
  {
   "cell_type": "code",
   "execution_count": null,
   "metadata": {},
   "outputs": [],
   "source": []
  }
 ],
 "metadata": {
  "kernelspec": {
   "display_name": "Python 3",
   "language": "python",
   "name": "python3"
  },
  "language_info": {
   "codemirror_mode": {
    "name": "ipython",
    "version": 3
   },
   "file_extension": ".py",
   "mimetype": "text/x-python",
   "name": "python",
   "nbconvert_exporter": "python",
   "pygments_lexer": "ipython3",
   "version": "3.8.6"
  },
  "varInspector": {
   "cols": {
    "lenName": 16,
    "lenType": 16,
    "lenVar": 40
   },
   "kernels_config": {
    "python": {
     "delete_cmd_postfix": "",
     "delete_cmd_prefix": "del ",
     "library": "var_list.py",
     "varRefreshCmd": "print(var_dic_list())"
    },
    "r": {
     "delete_cmd_postfix": ") ",
     "delete_cmd_prefix": "rm(",
     "library": "var_list.r",
     "varRefreshCmd": "cat(var_dic_list()) "
    }
   },
   "types_to_exclude": [
    "module",
    "function",
    "builtin_function_or_method",
    "instance",
    "_Feature"
   ],
   "window_display": false
  }
 },
 "nbformat": 4,
 "nbformat_minor": 4
}
